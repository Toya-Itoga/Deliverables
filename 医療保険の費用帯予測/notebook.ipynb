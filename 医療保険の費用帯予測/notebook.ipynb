{
  "nbformat": 4,
  "nbformat_minor": 0,
  "metadata": {
    "colab": {
      "provenance": []
    },
    "kernelspec": {
      "name": "python3",
      "display_name": "Python 3"
    },
    "language_info": {
      "name": "python"
    }
  },
  "cells": [
    {
      "cell_type": "code",
      "source": [
        "import pandas as pd\n",
        "\n",
        "df_train = pd.read_csv('/content/sample_data/train.csv')\n",
        "print('\\n------------df_train 先頭10行------------')\n",
        "print(df_train.head(10))"
      ],
      "metadata": {
        "colab": {
          "base_uri": "https://localhost:8080/"
        },
        "id": "PLIiZ8jyRPXC",
        "outputId": "0b55e9ac-24fb-4741-9d3a-78c31318b681"
      },
      "execution_count": 70,
      "outputs": [
        {
          "output_type": "stream",
          "name": "stdout",
          "text": [
            "\n",
            "------------df_train 先頭10行------------\n",
            "   id  age     sex        bmi  children smoker     region  charges\n",
            "0   0   26    male  32.665465         3     no  southeast        0\n",
            "1   1   41    male  29.798725         1     no  southwest        0\n",
            "2   2   28    male  32.722029         0    yes  northwest        1\n",
            "3   3   20  female  38.429831         2     no  southeast        0\n",
            "4   4   45  female  29.641854         1     no  northwest        0\n",
            "5   5   20    male  37.785937         2    yes  southeast        1\n",
            "6   6   37    male  43.393374         2     no  northeast        0\n",
            "7   7   41  female  32.280407         1     no  northeast        0\n",
            "8   8   40    male  28.865828         1     no  northeast        0\n",
            "9   9   54  female  33.870887         2     no  northeast        0\n"
          ]
        }
      ]
    },
    {
      "cell_type": "code",
      "source": [
        "df_train = df_train.drop('id', axis = 1)\n",
        "print(\"\\n------------'id'カラム削除　先頭5行------------\")\n",
        "print(df_train.head())"
      ],
      "metadata": {
        "colab": {
          "base_uri": "https://localhost:8080/"
        },
        "id": "KWgMlHVYWzCP",
        "outputId": "661b51c9-4dd4-4b89-f105-2aefdd2cde76"
      },
      "execution_count": 71,
      "outputs": [
        {
          "output_type": "stream",
          "name": "stdout",
          "text": [
            "\n",
            "------------'id'カラム削除------------\n",
            "   age     sex        bmi  children smoker     region  charges\n",
            "0   26    male  32.665465         3     no  southeast        0\n",
            "1   41    male  29.798725         1     no  southwest        0\n",
            "2   28    male  32.722029         0    yes  northwest        1\n",
            "3   20  female  38.429831         2     no  southeast        0\n",
            "4   45  female  29.641854         1     no  northwest        0\n"
          ]
        }
      ]
    },
    {
      "cell_type": "code",
      "source": [
        "print('\\n------------df_train 基本統計量-----------')\n",
        "print(df_train.describe())\n",
        "print('\\n')\n",
        "print('\\n---df_train データ数---')\n",
        "print(f'行 × 列：{df_train.shape}')\n",
        "print('\\n---df_train データ形式---')\n",
        "print(type(df_train))\n",
        "print('\\n')"
      ],
      "metadata": {
        "colab": {
          "base_uri": "https://localhost:8080/"
        },
        "id": "5vuBPiOtWDB9",
        "outputId": "99614a63-c8d7-4e8f-e0bc-e2981af6b127"
      },
      "execution_count": 72,
      "outputs": [
        {
          "output_type": "stream",
          "name": "stdout",
          "text": [
            "\n",
            "------------df_train 基本統計量-----------\n",
            "               age          bmi     children      charges\n",
            "count  1600.000000  1600.000000  1600.000000  1600.000000\n",
            "mean     38.985000    32.424376     1.014375     0.306250\n",
            "std      13.555012     5.766915     1.259031     0.628656\n",
            "min      18.000000    20.627626     0.000000     0.000000\n",
            "25%      27.000000    28.634267     0.000000     0.000000\n",
            "50%      40.000000    32.268786     1.000000     0.000000\n",
            "75%      50.000000    37.069581     2.000000     0.000000\n",
            "max      64.000000    47.290644     5.000000     2.000000\n",
            "\n",
            "\n",
            "\n",
            "------------df_train データ数------------\n",
            "行 × 列：(1600, 7)\n",
            "\n",
            "\n",
            "\n",
            "------------df_train データ数------------\n",
            "<class 'pandas.core.frame.DataFrame'>\n",
            "\n",
            "\n"
          ]
        }
      ]
    },
    {
      "cell_type": "code",
      "source": [
        "import matplotlib.pyplot as plt\n",
        "\n",
        "def plot_histograms(x):\n",
        "    numeric_cols = x.select_dtypes(include = 'number').columns\n",
        "    for col in numeric_cols:\n",
        "        plt.figure(figsize = (6, 4))\n",
        "        x[col].hist(bins = 30, edgecolor = 'black')\n",
        "        plt.title(f'Histogram of {col}')\n",
        "        plt.xlabel(col)\n",
        "        plt.ylabel('Frequency')\n",
        "        plt.grid(True)\n",
        "        plt.tight_layout()\n",
        "        plt.show()\n",
        "\n",
        "plot_histograms(df_train)"
      ],
      "metadata": {
        "colab": {
          "base_uri": "https://localhost:8080/",
          "height": 1000
        },
        "collapsed": true,
        "id": "OM4ieTyCRuvS",
        "outputId": "c33bc878-b0b6-4986-e666-f2a7e63548f7"
      },
      "execution_count": 73,
      "outputs": [
        {
          "output_type": "display_data",
          "data": {
            "text/plain": [
              "<Figure size 600x400 with 1 Axes>"
            ],
            "image/png": "[encoded data removed]"
          },
          "metadata": {}
        },
        {
          "output_type": "display_data",
          "data": {
            "text/plain": [
              "<Figure size 600x400 with 1 Axes>"
            ],
            "image/png": "[encoded data removed]"
          },
          "metadata": {}
        },
        {
          "output_type": "display_data",
          "data": {
            "text/plain": [
              "<Figure size 600x400 with 1 Axes>"
            ],
            "image/png": "[encoded data removed]"
          },
          "metadata": {}
        },
        {
          "output_type": "display_data",
          "data": {
            "text/plain": [
              "<Figure size 600x400 with 1 Axes>"
            ],
            "image/png": "[encoded data removed]"
          },
          "metadata": {}
        }
      ]
    },
    {
      "cell_type": "code",
      "source": [
        "def sex_judgement(x):\n",
        "  if x == 'male':\n",
        "    return 1\n",
        "  else:\n",
        "    return 0\n",
        "df_train['sex'] = df_train['sex'].apply(sex_judgement)\n",
        "\n",
        "def smoker_judgement(x):\n",
        "  if x == 'yes':\n",
        "    return 1\n",
        "  else:\n",
        "    return 0\n",
        "df_train['smoker'] = df_train['smoker'].apply(smoker_judgement)\n",
        "\n",
        "dummies_region = pd.get_dummies(df_train['region'], prefix = 'region').astype(int)\n",
        "df_train = pd.concat([df_train.drop('region', axis = 1), dummies_region], axis = 1)\n",
        "\n",
        "print('\\n------------df_train 前処理済　先頭5行------------')\n",
        "print(df_train.head())\n",
        "print('\\n')"
      ],
      "metadata": {
        "colab": {
          "base_uri": "https://localhost:8080/"
        },
        "id": "AwcBLw58lAMf",
        "outputId": "3eee9b24-ea08-4e2d-b51e-df65d5fb11eb"
      },
      "execution_count": 74,
      "outputs": [
        {
          "output_type": "stream",
          "name": "stdout",
          "text": [
            "\n",
            "------------df_train 前処理済------------\n",
            "   age  sex        bmi  children  smoker  charges  region_northeast  \\\n",
            "0   26    1  32.665465         3       0        0                 0   \n",
            "1   41    1  29.798725         1       0        0                 0   \n",
            "2   28    1  32.722029         0       1        1                 0   \n",
            "3   20    0  38.429831         2       0        0                 0   \n",
            "4   45    0  29.641854         1       0        0                 0   \n",
            "\n",
            "   region_northwest  region_southeast  region_southwest  \n",
            "0                 0                 1                 0  \n",
            "1                 0                 0                 1  \n",
            "2                 1                 0                 0  \n",
            "3                 0                 1                 0  \n",
            "4                 1                 0                 0  \n",
            "\n",
            "\n"
          ]
        }
      ]
    },
    {
      "cell_type": "code",
      "source": [
        "from sklearn.model_selection import train_test_split\n",
        "from sklearn.preprocessing import StandardScaler\n",
        "from imblearn.over_sampling import SMOTE\n",
        "\n",
        "train_X = df_train.drop('charges', axis = 1)\n",
        "train_y = df_train['charges']\n",
        "\n",
        "X_tr, X_val, y_tr, y_val = train_test_split(train_X, train_y, test_size = 0.3, random_state = 1)\n",
        "print('\\n----------訓練データ----------')\n",
        "print(f'X_tr：{X_tr.shape}　y_tr：{y_tr.shape}')\n",
        "print('\\n----------検証データ----------')\n",
        "print(f'X_val：{X_val.shape}　y_val：{y_val.shape}')\n",
        "print('\\n')\n",
        "\n",
        "scaled = ['age', 'bmi']\n",
        "scaler = StandardScaler()\n",
        "X_tr_scaled = X_tr.copy()\n",
        "X_tr_scaled[scaled] = scaler.fit_transform(X_tr[scaled])\n",
        "X_val_scaled = X_val.copy()\n",
        "X_val_scaled[scaled] = scaler.transform(X_val[scaled])\n",
        "print('\\n------------X_tr　標準化済　基本統計量------------')\n",
        "print(X_tr_scaled.describe())\n",
        "print('\\n')\n",
        "print('\\n------------X_val　標準化済　基本統計量------------')\n",
        "print(X_val_scaled.describe())\n",
        "print('\\n')\n",
        "\n",
        "sm_tr = SMOTE(sampling_strategy = 'not majority', random_state = 1)\n",
        "X_tr_resampled, y_tr_resampled = sm_tr.fit_resample(X_tr, y_tr)\n",
        "\n",
        "sm_val = SMOTE(sampling_strategy = 'not majority', random_state = 1)\n",
        "X_val_resampled, y_val_resampled = sm_val.fit_resample(X_val, y_val)\n",
        "\n",
        "sm_tr_scaled = SMOTE(sampling_strategy = 'not majority', random_state = 1)\n",
        "X_tr_scaled_resampled, y_tr_scaled_resampled = sm_tr_scaled.fit_resample(X_tr_scaled, y_tr)\n",
        "\n",
        "print('\\n---スケーリング済データ---')\n",
        "print(f'X_tr_resampled{X_tr_resampled.shape}, y_tr_resampled{y_tr_resampled.shape}')\n",
        "print('\\n---スケーリング & 標準化済データ---')\n",
        "print(f'X_tr_scaled_resampled{X_tr_scaled_resampled.shape}, y_tr_resampled{y_tr_resampled.shape}')\n",
        "print('\\n')"
      ],
      "metadata": {
        "colab": {
          "base_uri": "https://localhost:8080/"
        },
        "id": "4LxX70WmLUQx",
        "outputId": "a14a8f16-ab6e-4724-c36c-e9b9d1d7e7c0"
      },
      "execution_count": 75,
      "outputs": [
        {
          "output_type": "stream",
          "name": "stdout",
          "text": [
            "\n",
            "----------訓練データ----------\n",
            "X_tr：(1120, 9)　y_tr：(1120,)\n",
            "\n",
            "----------検証データ----------\n",
            "X_val：(480, 9)　y_val：(480,)\n",
            "\n",
            "\n",
            "\n",
            "------------X_tr　標準化済------------\n",
            "                age          sex           bmi     children       smoker  \\\n",
            "count  1.120000e+03  1120.000000  1.120000e+03  1120.000000  1120.000000   \n",
            "mean   1.776357e-16     0.516071 -9.769963e-16     0.967857     0.219643   \n",
            "std    1.000447e+00     0.499965  1.000447e+00     1.227785     0.414190   \n",
            "min   -1.557985e+00     0.000000 -2.023151e+00     0.000000     0.000000   \n",
            "25%   -8.951527e-01     0.000000 -6.502331e-01     0.000000     0.000000   \n",
            "50%    6.227206e-02     1.000000 -2.046991e-02     0.500000     0.000000   \n",
            "75%    7.987527e-01     1.000000  7.824419e-01     2.000000     0.000000   \n",
            "max    1.829826e+00     1.000000  2.573627e+00     5.000000     1.000000   \n",
            "\n",
            "       region_northeast  region_northwest  region_southeast  region_southwest  \n",
            "count       1120.000000       1120.000000       1120.000000       1120.000000  \n",
            "mean           0.260714          0.250893          0.256250          0.232143  \n",
            "std            0.439220          0.433721          0.436757          0.422388  \n",
            "min            0.000000          0.000000          0.000000          0.000000  \n",
            "25%            0.000000          0.000000          0.000000          0.000000  \n",
            "50%            0.000000          0.000000          0.000000          0.000000  \n",
            "75%            1.000000          1.000000          1.000000          0.000000  \n",
            "max            1.000000          1.000000          1.000000          1.000000  \n",
            "\n",
            "\n",
            "\n",
            "------------X_val　標準化済------------\n",
            "              age         sex         bmi    children      smoker  \\\n",
            "count  480.000000  480.000000  480.000000  480.000000  480.000000   \n",
            "mean    -0.041602    0.547917    0.035471    1.122917    0.193750   \n",
            "std      0.993704    0.498218    0.980163    1.324057    0.395648   \n",
            "min     -1.557985    0.000000   -1.871303    0.000000    0.000000   \n",
            "25%     -0.895153    0.000000   -0.623797    0.000000    0.000000   \n",
            "50%      0.062272    1.000000   -0.006348    1.000000    0.000000   \n",
            "75%      0.743517    1.000000    0.845469    2.000000    0.000000   \n",
            "max      1.829826    1.000000    2.487974    5.000000    1.000000   \n",
            "\n",
            "       region_northeast  region_northwest  region_southeast  region_southwest  \n",
            "count        480.000000        480.000000        480.000000        480.000000  \n",
            "mean           0.254167          0.254167          0.252083          0.239583  \n",
            "std            0.435846          0.435846          0.434662          0.427275  \n",
            "min            0.000000          0.000000          0.000000          0.000000  \n",
            "25%            0.000000          0.000000          0.000000          0.000000  \n",
            "50%            0.000000          0.000000          0.000000          0.000000  \n",
            "75%            1.000000          1.000000          1.000000          0.000000  \n",
            "max            1.000000          1.000000          1.000000          1.000000  \n",
            "\n",
            "\n",
            "\n",
            "---スケーリング済データ---\n",
            "訓練データ：X_tr_resampled(2637, 9), y_tr_resampled(2637,)\n",
            "\n",
            "---スケーリング & 標準化済データ---\n",
            "訓練データ：X_tr_scaled_resampled(2637, 9), y_tr_resampled(2637,)\n",
            "\n",
            "\n"
          ]
        }
      ]
    },
    {
      "cell_type": "code",
      "source": [
        "from sklearn.linear_model import LogisticRegression\n",
        "from sklearn.metrics import f1_score\n",
        "\n",
        "model_lr = LogisticRegression(max_iter = 1000)\n",
        "model_lr.fit(X_tr_scaled_resampled, y_tr_resampled)\n",
        "y_pred_lr = model_lr.predict(X_val_scaled)\n",
        "f1_macro_lr = f1_score(y_val, y_pred_lr, average = 'macro')\n",
        "\n",
        "print('\\n----ベースライン----')\n",
        "print(f'F1 macro：{f1_macro_lr}')\n",
        "print('\\n')"
      ],
      "metadata": {
        "colab": {
          "base_uri": "https://localhost:8080/"
        },
        "id": "XMD0c0YRVAoo",
        "outputId": "e565d1e5-4a1a-4e5f-9923-715dc73e7991"
      },
      "execution_count": 76,
      "outputs": [
        {
          "output_type": "stream",
          "name": "stdout",
          "text": [
            "\n",
            "----ベースライン----\n",
            "LG F1 macro：0.714691867650244\n",
            "\n",
            "\n"
          ]
        }
      ]
    },
    {
      "cell_type": "code",
      "source": [
        "from sklearn.svm import SVC\n",
        "from sklearn.ensemble import RandomForestClassifier\n",
        "from xgboost import XGBClassifier\n",
        "\n",
        "model_svm = SVC(random_state=1)\n",
        "model_svm.fit(X_tr_scaled_resampled, y_tr_scaled_resampled)\n",
        "y_pred_svm = model_svm.predict(X_val_scaled)\n",
        "f1_macro_svm = f1_score(y_val, y_pred_svm, average = 'macro')\n",
        "print('\\n---SVM---')\n",
        "if f1_macro_svm > f1_macro_lr:\n",
        "  print('Above baseline')\n",
        "else:\n",
        "  print('Below baseline')\n",
        "print(f\"F1 macro: {f1_macro_svm:.4f}\")\n",
        "\n",
        "model_rf = RandomForestClassifier(random_state = 1)\n",
        "model_rf.fit(X_tr_resampled, y_tr_resampled)\n",
        "y_pred_rf = model_rf.predict(X_val_resampled)\n",
        "f1_macro_rf = f1_score(y_val_resampled, y_pred_rf, average = 'macro')\n",
        "print('\\n---Random Forest---')\n",
        "if f1_macro_rf > f1_macro_lr:\n",
        "  print('Above baseline')\n",
        "else:\n",
        "  print('Below baseline')\n",
        "print(f\"F1 macro: {f1_macro_rf:.4f}\")\n",
        "\n",
        "model_xgb = XGBClassifier(eval_metric = 'mlogloss', random_state = 1)\n",
        "model_xgb.fit(X_tr_resampled, y_tr_resampled)\n",
        "y_pred_xgb = model_xgb.predict(X_val_resampled)\n",
        "f1_macro_xgb = f1_score(y_val_resampled, y_pred_xgb, average = 'macro')\n",
        "print('\\n---XGBoost---')\n",
        "if f1_macro_xgb > f1_macro_lr:\n",
        "  print('Above baseline')\n",
        "else:\n",
        "  print('Below baseline')\n",
        "print(f\"F1 macro: {f1_macro_xgb:.4f}\")\n",
        "print('\\n')"
      ],
      "metadata": {
        "colab": {
          "base_uri": "https://localhost:8080/"
        },
        "id": "Sgbn6qOXucUu",
        "outputId": "6c32dafb-7b54-49a3-abf7-3a6b0ad6f295"
      },
      "execution_count": 77,
      "outputs": [
        {
          "output_type": "stream",
          "name": "stdout",
          "text": [
            "\n",
            "---SVM---\n",
            "Below baseline\n",
            "F1 macro: 0.7120\n",
            "\n",
            "---Random Forest---\n",
            "Above baseline\n",
            "F1 macro: 0.8363\n",
            "\n",
            "---XGBoost---\n",
            "Above baseline\n",
            "F1 macro: 0.8202\n",
            "\n",
            "\n"
          ]
        }
      ]
    },
    {
      "cell_type": "code",
      "source": [
        "df_test = pd.read_csv('/content/sample_data/test.csv')\n",
        "print('\\n------------df_test 先頭5行------------')\n",
        "print(df_test.head())\n",
        "print('\\n')\n",
        "\n",
        "ids = df_test['id']\n",
        "df_test = df_test.drop('id', axis = 1)\n",
        "df_test['sex'] = df_test['sex'].apply(sex_judgement)\n",
        "df_test['smoker'] = df_test['smoker'].apply(smoker_judgement)\n",
        "dummies_region_test = pd.get_dummies(df_test['region'], prefix = 'region').astype(int)\n",
        "df_test = pd.concat([df_test.drop('region', axis = 1), dummies_region_test], axis = 1)\n",
        "print('\\n----df_test 前処理済　基本統計量----')\n",
        "print(df_test.head())\n",
        "print('\\n')"
      ],
      "metadata": {
        "colab": {
          "base_uri": "https://localhost:8080/"
        },
        "id": "wYIfN0kFC8La",
        "outputId": "11810352-99a7-4077-9fc7-b63f9e541c7b"
      },
      "execution_count": 116,
      "outputs": [
        {
          "output_type": "stream",
          "name": "stdout",
          "text": [
            "\n",
            "------------df_test 先頭5行------------\n",
            "   id  age     sex        bmi  children smoker     region\n",
            "0  13   19    male  24.365178         1     no  northeast\n",
            "1  23   59    male  33.997763         0    yes  northeast\n",
            "2  27   42  female  29.283450         0     no  southwest\n",
            "3  28   30    male  24.903725         1     no  northwest\n",
            "4  29   41  female  29.644536         0     no  southwest\n",
            "\n",
            "\n",
            "\n",
            "----df_test 前処理済----\n",
            "   age  sex        bmi  children  smoker  region_northeast  region_northwest  \\\n",
            "0   19    1  24.365178         1       0                 1                 0   \n",
            "1   59    1  33.997763         0       1                 1                 0   \n",
            "2   42    0  29.283450         0       0                 0                 0   \n",
            "3   30    1  24.903725         1       0                 0                 1   \n",
            "4   41    0  29.644536         0       0                 0                 0   \n",
            "\n",
            "   region_southeast  region_southwest  \n",
            "0                 0                 0  \n",
            "1                 0                 0  \n",
            "2                 0                 1  \n",
            "3                 0                 0  \n",
            "4                 0                 1  \n",
            "\n",
            "\n"
          ]
        }
      ]
    },
    {
      "cell_type": "code",
      "source": [
        "df_test_pred = model_rf.predict(df_test)\n",
        "submission = pd.DataFrame({'id': ids, 'predicted_label':  df_test_pred})\n",
        "submission.to_csv('sample_submit.csv', index = False, header = False)\n",
        "\n",
        "print('\\nデータエクスポート完了')\n",
        "print('\\n')"
      ],
      "metadata": {
        "colab": {
          "base_uri": "https://localhost:8080/"
        },
        "id": "yv2iSfuWJjXF",
        "outputId": "e91f9aba-a388-490a-cda5-1e8c386cdc8f"
      },
      "execution_count": 119,
      "outputs": [
        {
          "output_type": "stream",
          "name": "stdout",
          "text": [
            "\n",
            "データエクスポート完了\n",
            "\n",
            "\n"
          ]
        }
      ]
    }
  ]
}